{
  "nbformat": 4,
  "nbformat_minor": 0,
  "metadata": {
    "colab": {
      "provenance": []
    },
    "kernelspec": {
      "name": "python3",
      "display_name": "Python 3"
    },
    "language_info": {
      "name": "python"
    }
  },
  "cells": [
    {
      "cell_type": "markdown",
      "source": [
        "# Classical Solution\n",
        "\n",
        "Alice and Bob might have agreed that, if given the first column, Bob shall fill it with three −1’s. Then, whatever row Alice is given, she must fill it with either {−1, +1, −1} or {−1, −1, +1}. Suppose that Alice decided that she would fill any row in the same way: {−1, −1, +1}. Figure 1 (a) shows how the predefined matrix would look like. Notice that Alice’s rows are already defined, but Bob still has to decide how to fill the second and third columns. He can, and must, fill the second column with three −1’s, so that whatever row Alice is given, the intersection agrees. Intuitively, for the same reason, he should then fill the third column with three +1’s. However, this is not a valid strategy, since the product of the last column will be +1 and not −1, as required. Thus, Bob must fill at least one of the entries of the last column with −1. By doing that, there will be one row and column whose intersection does not agree, and thus one row and column for which Alice and Bob lose, as illustrated in Figure 1 (b).\n"
      ],
      "metadata": {
        "id": "u2TcjTGdzRH2"
      }
    },
    {
      "cell_type": "code",
      "source": [
        "import numpy as np\n",
        "import matplotlib.pylab as plt"
      ],
      "metadata": {
        "id": "9QrkcPkkxjql"
      },
      "execution_count": 1,
      "outputs": []
    },
    {
      "cell_type": "markdown",
      "source": [
        "### Pre-defined strategy\n",
        "\n",
        "####  Case 1: Both defined their values to match the product condition but we have a mismatch in one cell"
      ],
      "metadata": {
        "id": "KBUPQcbE3pM2"
      }
    },
    {
      "cell_type": "code",
      "source": [
        "# Alice's strategy: Filling rows\n",
        "alice_rows_mismatch = [[-1, -1, +1], [-1, -1, +1], [-1, -1, +1]]\n",
        "\n",
        "# Bob's strategy: Filling columns\n",
        "bob_columns_mismatch = [[-1, -1, -1], [-1, -1, -1], [-1, 1, 1]]"
      ],
      "metadata": {
        "id": "ymqO3mAosXev"
      },
      "execution_count": 81,
      "outputs": []
    },
    {
      "cell_type": "markdown",
      "source": [
        "#### Case 2: Both defined their values to match every value, but Bob's column doesn't has the product of -1"
      ],
      "metadata": {
        "id": "-dDEF56E3vvB"
      }
    },
    {
      "cell_type": "code",
      "source": [
        "# Alice's strategy: Filling rows\n",
        "alice_rows_product = [[-1, -1, +1], [-1, -1, +1], [-1, -1, +1]]\n",
        "\n",
        "# Bob's strategy: Filling columns\n",
        "bob_columns_product = [[-1, -1, -1], [-1, -1, -1], [+1, +1, +1]]"
      ],
      "metadata": {
        "id": "OIRGSZtc3-y2"
      },
      "execution_count": 48,
      "outputs": []
    },
    {
      "cell_type": "markdown",
      "source": [
        "### Implementation"
      ],
      "metadata": {
        "id": "RR_I5h287NmS"
      }
    },
    {
      "cell_type": "code",
      "source": [
        "def plot_magic_square(matrix, lost_cell=None, lost_column=None, lost_row=None):\n",
        "    # Create a 3x3 grid\n",
        "    fig, ax = plt.subplots(figsize=(3,3))\n",
        "    ax.set_xticks([])\n",
        "    ax.set_yticks([])\n",
        "    ax.set_xticklabels([])\n",
        "    ax.set_yticklabels([])\n",
        "\n",
        "    # Color the cells\n",
        "    colors = [['white' if val == 0 else 'green' for val in row] for row in matrix]\n",
        "    if lost_cell: colors[lost_cell[0]][lost_cell[1]] = 'red'\n",
        "    if lost_column:\n",
        "      for row in colors: row[lost_column] = 'red'\n",
        "    if lost_row: colors[lost_row] = ['red', 'red', 'red']\n",
        "\n",
        "    table = ax.table(cellText=matrix, cellColours=colors, cellLoc='center', loc='center', bbox=[0, 0, 1, 1])\n",
        "\n",
        "    # Set cell text properties\n",
        "    for cell in table.get_children():\n",
        "        if isinstance(cell, plt.Text):\n",
        "            cell.set_fontsize(20)\n",
        "\n",
        "    # Show the plot\n",
        "    plt.show()"
      ],
      "metadata": {
        "id": "H7cLohpixR_r"
      },
      "execution_count": 141,
      "outputs": []
    },
    {
      "cell_type": "code",
      "source": [
        "# Function for Debugging\n",
        "def print_matrix(matrix):\n",
        "  for i in range(3):\n",
        "    for j in range(3):\n",
        "      print(matrix[i][j], \" \", end='')\n",
        "    print(\"\")"
      ],
      "metadata": {
        "id": "AXyvYL_v3uam"
      },
      "execution_count": 26,
      "outputs": []
    },
    {
      "cell_type": "code",
      "execution_count": 142,
      "metadata": {
        "id": "67PvEJt2yo9v"
      },
      "outputs": [],
      "source": [
        "import random\n",
        "\n",
        "def play_magic_square_game(alice_rows, bob_columns):\n",
        "    #Check if Alice and Bob Won the round\n",
        "    won = 0\n",
        "\n",
        "    # If they lost due to a mismatch, save the corresponding match cell\n",
        "    lost_cell = [-1,-1]\n",
        "\n",
        "    # Initialize the 3x3 matrix\n",
        "    matrix = [[0, 0, 0], [0, 0, 0], [0, 0, 0]]\n",
        "\n",
        "    # List of possibles choices for a random round value\n",
        "    rounds = [0,1,2]\n",
        "\n",
        "    # Play the game for three rounds\n",
        "    for i in range(3):\n",
        "        round_num = random.choice(rounds)\n",
        "        rounds.remove(round_num)\n",
        "\n",
        "        # Assign a row to Alice\n",
        "        alice_row = alice_rows[round_num].copy()\n",
        "\n",
        "        # Assign a column to Bob\n",
        "        bob_column = bob_columns[round_num]\n",
        "\n",
        "        # Fill the matrix with Alice's row\n",
        "        for i in range(3):\n",
        "            if matrix[round_num][i] != 0 and matrix[round_num][i] != alice_row[i]:\n",
        "              won = -1;\n",
        "              lost_cell = [round_num,i]\n",
        "\n",
        "            matrix[round_num][i] = alice_row[i]\n",
        "\n",
        "        # Fill the matrix with Bob's column\n",
        "        for i in range(3):\n",
        "            if matrix[i][round_num] != 0 and matrix[i][round_num] != bob_column[i]:\n",
        "              won = -2;\n",
        "              lost_cell = [i,round_num]\n",
        "\n",
        "            matrix[i][round_num] = bob_column[i]\n",
        "\n",
        "        if won < 0:\n",
        "          print(\"Round\", round_num + 1, \"lost due to mismatch cell!\")\n",
        "          plot_magic_square(matrix, lost_cell)\n",
        "          break\n",
        "\n",
        "        # Check if Alice and Bob won the round\n",
        "        alice_product = matrix[round_num][0] * matrix[round_num][1] * matrix[round_num][2]\n",
        "        bob_product = matrix[0][round_num] * matrix[1][round_num] * matrix[2][round_num]\n",
        "\n",
        "        if alice_product == 1 and bob_product == -1 and alice_row[round_num] == bob_column[round_num]:\n",
        "            print(\"Round\", round_num + 1, \"won!\")\n",
        "            plot_magic_square(matrix)\n",
        "        elif bob_product == 1:\n",
        "            print(\"Round\", round_num + 1, \"lost!\")\n",
        "            plot_magic_square(matrix, lost_column=round_num)\n",
        "            break\n",
        "        elif alice_product == -1:\n",
        "            print(\"Round\", round_num + 1, \"lost!\")\n",
        "            plot_magic_square(matrix, lost_row=round_num)\n",
        "            break"
      ]
    },
    {
      "cell_type": "markdown",
      "source": [
        "### Results:"
      ],
      "metadata": {
        "id": "zUwVmOQQ7TeO"
      }
    },
    {
      "cell_type": "code",
      "source": [
        "# Play the Magic Square game: Deterministic Pre-defined Mismatch\n",
        "play_magic_square_game(alice_rows_mismatch, bob_columns_mismatch)"
      ],
      "metadata": {
        "id": "YAzm9yo0txQn"
      },
      "execution_count": null,
      "outputs": []
    },
    {
      "cell_type": "code",
      "source": [
        "# Play the Magic Square game: Deterministic Pre-defined Product Error\n",
        "play_magic_square_game(alice_rows_product, bob_columns_product)"
      ],
      "metadata": {
        "id": "nu0RvO4Uurz_",
        "colab": {
          "base_uri": "https://localhost:8080/",
          "height": 604
        },
        "outputId": "d460831e-bdab-428d-94c7-39bea4d0e95c"
      },
      "execution_count": 143,
      "outputs": [
        {
          "output_type": "stream",
          "name": "stdout",
          "text": [
            "0  0  0  \n",
            "0  0  0  \n",
            "0  0  0  \n",
            "Round 2 won!\n"
          ]
        },
        {
          "output_type": "display_data",
          "data": {
            "text/plain": [
              "<Figure size 300x300 with 1 Axes>"
            ],
            "image/png": "[encoded data removed]"
          },
          "metadata": {}
        },
        {
          "output_type": "stream",
          "name": "stdout",
          "text": [
            "Round 3 lost!\n"
          ]
        },
        {
          "output_type": "display_data",
          "data": {
            "text/plain": [
              "<Figure size 300x300 with 1 Axes>"
            ],
            "image/png": "[encoded data removed]"
          },
          "metadata": {}
        }
      ]
    },
    {
      "cell_type": "markdown",
      "source": [
        "Example 1 illustrates one of the many deterministic strategies that Alice and Bob can adopt. It is not difficult to convince yourself that, no matter how they decide to fill in their entries, it is impossible for them to come up with predefined answers that always win. Any deterministic strategy is a pair of matrices, one for Alice and another for Bob. The only way that they could design a strategy that wins with certainty every round is to prepare two identical matrices satisfying the requirements for each row and for each column. That is, a single matrix for which the product of every row is +1 and the product of every column is −1. Such a matrix cannot possibly exist! It turns out that the best that they can do is to win with probability 8/9."
      ],
      "metadata": {
        "id": "nh7EPvGu2QaW"
      }
    },
    {
      "cell_type": "markdown",
      "source": [
        "### Random/Probabilistic Strategy"
      ],
      "metadata": {
        "id": "QuChj3QL4Yy4"
      }
    },
    {
      "cell_type": "markdown",
      "source": [
        "What if Alice and Bob decide for a probabilistic strategy? That is, Alice and Bob each carry a coin. When assigned a row/column, they flip their coins and fill the entries of the row/column based on the outcomes of the coins. Can they do better? To randomly assign values to one row (equivalently, one column) is essentially the same as randomly selecting one of the 29 possible predefined 3 × 3 grids (including those matrices that would lead to invalid answers). In other words, a probabilistic strategy for the Magic Square game is one in which Alice and Bob randomly\n",
        "select a deterministic strategy. Hence, no matter how lucky Alice and Bob are, the probability of success of any strategy that they come up with is bounded by the winning probability of the best deterministic strategy, which is 8/9. Theorem ?? formalizes this argument."
      ],
      "metadata": {
        "id": "lTnI9i3TE2dB"
      }
    },
    {
      "cell_type": "code",
      "source": [
        "possible_values = [+1, -1]\n",
        "bob_matrix_random = [[0,0,0], [0,0,0], [0,0,0]]\n",
        "alice_matrix_random = [[0,0,0], [0,0,0], [0,0,0]]\n",
        "for i in range(3):\n",
        "  for j in range(3):\n",
        "    bob_matrix_random[i][j] = random.choice(possible_values)\n",
        "    alice_matrix_random[i][j] = random.choice(possible_values)"
      ],
      "metadata": {
        "id": "vGwkUDO74cIW"
      },
      "execution_count": 4,
      "outputs": []
    },
    {
      "cell_type": "code",
      "source": [
        "# Play the Magic Square game: Non-Deterministic Pre-defined Matrix\n",
        "play_magic_square_game(alice_rows_product, bob_columns_product)"
      ],
      "metadata": {
        "colab": {
          "base_uri": "https://localhost:8080/",
          "height": 604
        },
        "id": "MUw1-n2mFK5K",
        "outputId": "b61a03a9-97f3-45a1-8af1-09b984a621d1"
      },
      "execution_count": 145,
      "outputs": [
        {
          "output_type": "stream",
          "name": "stdout",
          "text": [
            "0  0  0  \n",
            "0  0  0  \n",
            "0  0  0  \n",
            "Round 1 won!\n"
          ]
        },
        {
          "output_type": "display_data",
          "data": {
            "text/plain": [
              "<Figure size 300x300 with 1 Axes>"
            ],
            "image/png": "[encoded data removed]"
          },
          "metadata": {}
        },
        {
          "output_type": "stream",
          "name": "stdout",
          "text": [
            "Round 3 lost!\n"
          ]
        },
        {
          "output_type": "display_data",
          "data": {
            "text/plain": [
              "<Figure size 300x300 with 1 Axes>"
            ],
            "image/png": "[encoded data removed]"
          },
          "metadata": {}
        }
      ]
    }
  ]
}