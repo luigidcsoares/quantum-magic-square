{
  "nbformat": 4,
  "nbformat_minor": 0,
  "metadata": {
    "colab": {
      "provenance": []
    },
    "kernelspec": {
      "name": "python3",
      "display_name": "Python 3"
    },
    "language_info": {
      "name": "python"
    }
  },
  "cells": [
    {
      "cell_type": "markdown",
      "source": [
        "# Classical Solution\n",
        "\n",
        "Alice and Bob might have agreed that, if given the first column, Bob shall fill it with three −1’s. Then, whatever row Alice is given, she must fill it with either {−1, +1, −1} or {−1, −1, +1}. Suppose that Alice decided that she would fill any row in the same way: {−1, −1, +1}. Figure 1 (a) shows how the predefined matrix would look like. Notice that Alice’s rows are already defined, but Bob still has to decide how to fill the second and third columns. He can, and must, fill the second column with three −1’s, so that whatever row Alice is given, the intersection agrees. Intuitively, for the same reason, he should then fill the third column with three +1’s. However, this is not a valid strategy, since the product of the last column will be +1 and not −1, as required. Thus, Bob must fill at least one of the entries of the last column with −1. By doing that, there will be one row and column whose intersection does not agree, and thus one row and column for which Alice and Bob lose, as illustrated in Figure 1 (b).\n"
      ],
      "metadata": {
        "id": "u2TcjTGdzRH2"
      }
    },
    {
      "cell_type": "code",
      "source": [
        "import numpy as np\n",
        "import matplotlib.pylab as plt"
      ],
      "metadata": {
        "id": "9QrkcPkkxjql"
      },
      "execution_count": 1,
      "outputs": []
    },
    {
      "cell_type": "markdown",
      "source": [
        "### Pre-defined strategy\n",
        "\n",
        "####  Case 1: Both defined their values to match the product condition but we have a mismatch in one cell"
      ],
      "metadata": {
        "id": "KBUPQcbE3pM2"
      }
    },
    {
      "cell_type": "code",
      "source": [
        "# Alice's strategy: Filling rows\n",
        "alice_rows_mismatch = [[-1, -1, +1], [-1, -1, +1], [-1, -1, +1]]\n",
        "\n",
        "# Bob's strategy: Filling columns\n",
        "bob_columns_mismatch = [[-1, -1, -1], [-1, -1, -1], [-1, 1, 1]]"
      ],
      "metadata": {
        "id": "ymqO3mAosXev"
      },
      "execution_count": 2,
      "outputs": []
    },
    {
      "cell_type": "markdown",
      "source": [
        "#### Case 2: Both defined their values to match every value, but Bob's column doesn't has the product of -1"
      ],
      "metadata": {
        "id": "-dDEF56E3vvB"
      }
    },
    {
      "cell_type": "code",
      "source": [
        "# Alice's strategy: Filling rows\n",
        "alice_rows_product = [[-1, -1, +1], [-1, -1, +1], [-1, -1, +1]]\n",
        "\n",
        "# Bob's strategy: Filling columns\n",
        "bob_columns_product = [[-1, -1, -1], [-1, -1, -1], [1, 1, 1]]"
      ],
      "metadata": {
        "id": "OIRGSZtc3-y2"
      },
      "execution_count": 3,
      "outputs": []
    },
    {
      "cell_type": "markdown",
      "source": [
        "### Random/Probabilistic Strategy"
      ],
      "metadata": {
        "id": "QuChj3QL4Yy4"
      }
    },
    {
      "cell_type": "code",
      "source": [
        "# TODO"
      ],
      "metadata": {
        "id": "vGwkUDO74cIW"
      },
      "execution_count": 4,
      "outputs": []
    },
    {
      "cell_type": "code",
      "source": [
        "def plot_magic_square(matrix, lost_cell=None):\n",
        "    # Create a 3x3 grid\n",
        "    fig, ax = plt.subplots(figsize=(3,3))\n",
        "    ax.set_xticks([])\n",
        "    ax.set_yticks([])\n",
        "    ax.set_xticklabels([])\n",
        "    ax.set_yticklabels([])\n",
        "\n",
        "    # Color the cells\n",
        "    colors = [['white' if val == 0 else 'green' for val in row] for row in matrix]\n",
        "    if lost_cell: colors[lost_cell[0]][lost_cell[1]] = 'red' #TODO: Color the whole column/line if the product doesn't result in the expected value\n",
        "\n",
        "    table = ax.table(cellText=matrix, cellColours=colors, cellLoc='center', loc='center', bbox=[0, 0, 1, 1])\n",
        "\n",
        "    # Set cell text properties\n",
        "    for cell in table.get_children():\n",
        "        if isinstance(cell, plt.Text):\n",
        "            cell.set_fontsize(20)\n",
        "\n",
        "    # Show the plot\n",
        "    plt.show()"
      ],
      "metadata": {
        "id": "H7cLohpixR_r"
      },
      "execution_count": 5,
      "outputs": []
    },
    {
      "cell_type": "code",
      "execution_count": 12,
      "metadata": {
        "id": "67PvEJt2yo9v"
      },
      "outputs": [],
      "source": [
        "import random\n",
        "\n",
        "def play_magic_square_game(alice_rows, bob_columns):\n",
        "    #Check if Alice and Bob Won the round\n",
        "    won = 0\n",
        "\n",
        "    # If they lost due to a mismatch, save the corresponding match cell\n",
        "    lost_cell = [-1,-1]\n",
        "\n",
        "    # Initialize the 3x3 matrix\n",
        "    matrix = [[0, 0, 0], [0, 0, 0], [0, 0, 0]]\n",
        "\n",
        "\n",
        "    # Play the game for three rounds\n",
        "    for round_num in range(3):\n",
        "        # Assign a row to Alice\n",
        "        alice_row = alice_rows[round_num]\n",
        "\n",
        "        # Assign a column to Bob\n",
        "        bob_column = random.choice(bob_columns)\n",
        "\n",
        "        # Fill the matrix with Alice's row\n",
        "        matrix[round_num] = alice_row\n",
        "\n",
        "        # Fill the matrix with Bob's column\n",
        "        for i in range(3):\n",
        "            if matrix[i][round_num] != 0 and matrix[i][round_num] != bob_column[i]:\n",
        "              won = -1;\n",
        "              lost_cell = [i,round_num]\n",
        "\n",
        "            matrix[i][round_num] = bob_column[i]\n",
        "\n",
        "        if won == -1:\n",
        "          print(\"Round\", round_num + 1, \"lost due to mismatch cell!\")\n",
        "          plot_magic_square(matrix, lost_cell)\n",
        "          break\n",
        "          continue\n",
        "\n",
        "        # Check if Alice and Bob won the round\n",
        "        alice_product = matrix[round_num][0] * matrix[round_num][1] * matrix[round_num][2]\n",
        "        bob_product = matrix[0][round_num] * matrix[1][round_num] * matrix[2][round_num]\n",
        "\n",
        "        if alice_product == 1 and bob_product == -1 and alice_row[round_num] == bob_column[round_num]:\n",
        "            print(\"Round\", round_num + 1, \"won!\")\n",
        "            plot_magic_square(matrix)\n",
        "        else:\n",
        "            print(\"Round\", round_num + 1, \"lost!\")\n",
        "            plot_magic_square(matrix)\n",
        "            break"
      ]
    },
    {
      "cell_type": "code",
      "source": [
        "# Play the Magic Square game: Deterministic Pre-defined Mismatch\n",
        "play_magic_square_game(alice_rows_mismatch, bob_columns_mismatch)"
      ],
      "metadata": {
        "colab": {
          "base_uri": "https://localhost:8080/",
          "height": 553
        },
        "id": "YAzm9yo0txQn",
        "outputId": "a151ddec-3e18-4172-8ddd-69f703c0e776"
      },
      "execution_count": 13,
      "outputs": [
        {
          "output_type": "stream",
          "name": "stdout",
          "text": [
            "Round 1 won!\n"
          ]
        },
        {
          "output_type": "display_data",
          "data": {
            "text/plain": [
              "<Figure size 300x300 with 1 Axes>"
            ],
            "image/png": "[encoded data removed]"
          },
          "metadata": {}
        },
        {
          "output_type": "stream",
          "name": "stdout",
          "text": [
            "Round 2 lost!\n"
          ]
        },
        {
          "output_type": "display_data",
          "data": {
            "text/plain": [
              "<Figure size 300x300 with 1 Axes>"
            ],
            "image/png": "[encoded data removed]"
          },
          "metadata": {}
        }
      ]
    },
    {
      "cell_type": "code",
      "source": [
        "# Play the Magic Square game: Deterministic Pre-defined Product Error\n",
        "play_magic_square_game(alice_rows_product, bob_columns_product)"
      ],
      "metadata": {
        "id": "nu0RvO4Uurz_",
        "colab": {
          "base_uri": "https://localhost:8080/",
          "height": 285
        },
        "outputId": "807b5bce-643f-46c2-973b-278d5337a91d"
      },
      "execution_count": 11,
      "outputs": [
        {
          "output_type": "stream",
          "name": "stdout",
          "text": [
            "Round 1 lost!\n"
          ]
        },
        {
          "output_type": "display_data",
          "data": {
            "text/plain": [
              "<Figure size 300x300 with 1 Axes>"
            ],
            "image/png": "[encoded data removed]"
          },
          "metadata": {}
        }
      ]
    }
  ]
}